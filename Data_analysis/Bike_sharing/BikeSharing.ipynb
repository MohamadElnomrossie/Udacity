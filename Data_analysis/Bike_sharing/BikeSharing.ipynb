{
 "cells": [
  {
   "cell_type": "markdown",
   "metadata": {
    "slideshow": {
     "slide_type": "slide"
    }
   },
   "source": [
    "# Bike Sharing Dataset\n",
    "<h4>Each trip is anonymized and includes:</h4>\n",
    "<br>This data set includes information about individual rides made in a bike-sharing system covering the greater San Francisco Bay area between January 2020 and July 2020\n",
    "<h6>\n",
    "\n",
    "    Trip Duration (seconds)\n",
    "    Start Time and Date\n",
    "    End Time and Date\n",
    "    Start Station ID\n",
    "    Start Station Name\n",
    "    Start Station Latitude\n",
    "    Start Station Longitude\n",
    "    End Station ID\n",
    "    End Station Name\n",
    "    End Station Latitude\n",
    "    End Station Longitude\n",
    "    Bike ID\n",
    "    User Type (Subscriber or Customer – “Subscriber” = Member or “Customer” = Casual)\n",
    "</h6>"
   ]
  },
  {
   "cell_type": "code",
   "execution_count": 1,
   "metadata": {
    "slideshow": {
     "slide_type": "skip"
    }
   },
   "outputs": [],
   "source": [
    "import pandas as pd\n",
    "from pandas_profiling import ProfileReport\n",
    "import numpy as np\n",
    "import matplotlib.pyplot as plt\n",
    "import seaborn as sb\n",
    "from math import sin, cos, sqrt, atan2, radians\n",
    "import warnings\n",
    "warnings.filterwarnings(\"ignore\")\n",
    "%matplotlib inline"
   ]
  },
  {
   "cell_type": "code",
   "execution_count": 80,
   "metadata": {
    "slideshow": {
     "slide_type": "skip"
    }
   },
   "outputs": [
    {
     "data": {
      "text/html": [
       "<div>\n",
       "<style scoped>\n",
       "    .dataframe tbody tr th:only-of-type {\n",
       "        vertical-align: middle;\n",
       "    }\n",
       "\n",
       "    .dataframe tbody tr th {\n",
       "        vertical-align: top;\n",
       "    }\n",
       "\n",
       "    .dataframe thead th {\n",
       "        text-align: right;\n",
       "    }\n",
       "</style>\n",
       "<table border=\"1\" class=\"dataframe\">\n",
       "  <thead>\n",
       "    <tr style=\"text-align: right;\">\n",
       "      <th></th>\n",
       "      <th>duration_sec</th>\n",
       "      <th>start_time</th>\n",
       "      <th>end_time</th>\n",
       "      <th>start_station_id</th>\n",
       "      <th>start_station_name</th>\n",
       "      <th>start_station_latitude</th>\n",
       "      <th>start_station_longitude</th>\n",
       "      <th>end_station_id</th>\n",
       "      <th>end_station_name</th>\n",
       "      <th>end_station_latitude</th>\n",
       "      <th>end_station_longitude</th>\n",
       "      <th>bike_id</th>\n",
       "      <th>user_type</th>\n",
       "      <th>rental_access_method</th>\n",
       "    </tr>\n",
       "  </thead>\n",
       "  <tbody>\n",
       "    <tr>\n",
       "      <th>0</th>\n",
       "      <td>83118</td>\n",
       "      <td>2020-01-31 15:23:47.7330</td>\n",
       "      <td>2020-02-01 14:29:06.2630</td>\n",
       "      <td>400.0</td>\n",
       "      <td>Buchanan St at North Point St</td>\n",
       "      <td>37.804272</td>\n",
       "      <td>-122.433537</td>\n",
       "      <td>400.0</td>\n",
       "      <td>Buchanan St at North Point St</td>\n",
       "      <td>37.804272</td>\n",
       "      <td>-122.433537</td>\n",
       "      <td>13052</td>\n",
       "      <td>casual</td>\n",
       "      <td>NaN</td>\n",
       "    </tr>\n",
       "    <tr>\n",
       "      <th>1</th>\n",
       "      <td>68239</td>\n",
       "      <td>2020-01-31 15:40:31.6160</td>\n",
       "      <td>2020-02-01 10:37:51.0000</td>\n",
       "      <td>99.0</td>\n",
       "      <td>Folsom St at 15th St</td>\n",
       "      <td>37.767037</td>\n",
       "      <td>-122.415443</td>\n",
       "      <td>99.0</td>\n",
       "      <td>Folsom St at 15th St</td>\n",
       "      <td>37.767037</td>\n",
       "      <td>-122.415443</td>\n",
       "      <td>12235</td>\n",
       "      <td>member</td>\n",
       "      <td>NaN</td>\n",
       "    </tr>\n",
       "    <tr>\n",
       "      <th>2</th>\n",
       "      <td>55407</td>\n",
       "      <td>2020-01-31 17:48:16.6350</td>\n",
       "      <td>2020-02-01 09:11:44.3170</td>\n",
       "      <td>197.0</td>\n",
       "      <td>El Embarcadero at Grand Ave</td>\n",
       "      <td>37.808848</td>\n",
       "      <td>-122.249680</td>\n",
       "      <td>197.0</td>\n",
       "      <td>El Embarcadero at Grand Ave</td>\n",
       "      <td>37.808848</td>\n",
       "      <td>-122.249680</td>\n",
       "      <td>12822</td>\n",
       "      <td>casual</td>\n",
       "      <td>NaN</td>\n",
       "    </tr>\n",
       "    <tr>\n",
       "      <th>3</th>\n",
       "      <td>54929</td>\n",
       "      <td>2020-01-31 17:53:03.4130</td>\n",
       "      <td>2020-02-01 09:08:32.6340</td>\n",
       "      <td>197.0</td>\n",
       "      <td>El Embarcadero at Grand Ave</td>\n",
       "      <td>37.808848</td>\n",
       "      <td>-122.249680</td>\n",
       "      <td>197.0</td>\n",
       "      <td>El Embarcadero at Grand Ave</td>\n",
       "      <td>37.808848</td>\n",
       "      <td>-122.249680</td>\n",
       "      <td>11705</td>\n",
       "      <td>casual</td>\n",
       "      <td>NaN</td>\n",
       "    </tr>\n",
       "    <tr>\n",
       "      <th>4</th>\n",
       "      <td>55700</td>\n",
       "      <td>2020-01-31 17:12:33.4600</td>\n",
       "      <td>2020-02-01 08:40:53.6460</td>\n",
       "      <td>12.0</td>\n",
       "      <td>Pier 1/2 at The Embarcadero</td>\n",
       "      <td>37.796389</td>\n",
       "      <td>-122.394586</td>\n",
       "      <td>371.0</td>\n",
       "      <td>Lombard St at Columbus Ave</td>\n",
       "      <td>37.802746</td>\n",
       "      <td>-122.413579</td>\n",
       "      <td>3673</td>\n",
       "      <td>casual</td>\n",
       "      <td>NaN</td>\n",
       "    </tr>\n",
       "  </tbody>\n",
       "</table>\n",
       "</div>"
      ],
      "text/plain": [
       "   duration_sec                start_time                  end_time  \\\n",
       "0         83118  2020-01-31 15:23:47.7330  2020-02-01 14:29:06.2630   \n",
       "1         68239  2020-01-31 15:40:31.6160  2020-02-01 10:37:51.0000   \n",
       "2         55407  2020-01-31 17:48:16.6350  2020-02-01 09:11:44.3170   \n",
       "3         54929  2020-01-31 17:53:03.4130  2020-02-01 09:08:32.6340   \n",
       "4         55700  2020-01-31 17:12:33.4600  2020-02-01 08:40:53.6460   \n",
       "\n",
       "   start_station_id             start_station_name  start_station_latitude  \\\n",
       "0             400.0  Buchanan St at North Point St               37.804272   \n",
       "1              99.0           Folsom St at 15th St               37.767037   \n",
       "2             197.0    El Embarcadero at Grand Ave               37.808848   \n",
       "3             197.0    El Embarcadero at Grand Ave               37.808848   \n",
       "4              12.0    Pier 1/2 at The Embarcadero               37.796389   \n",
       "\n",
       "   start_station_longitude  end_station_id               end_station_name  \\\n",
       "0              -122.433537           400.0  Buchanan St at North Point St   \n",
       "1              -122.415443            99.0           Folsom St at 15th St   \n",
       "2              -122.249680           197.0    El Embarcadero at Grand Ave   \n",
       "3              -122.249680           197.0    El Embarcadero at Grand Ave   \n",
       "4              -122.394586           371.0     Lombard St at Columbus Ave   \n",
       "\n",
       "   end_station_latitude  end_station_longitude  bike_id user_type  \\\n",
       "0             37.804272            -122.433537    13052    casual   \n",
       "1             37.767037            -122.415443    12235    member   \n",
       "2             37.808848            -122.249680    12822    casual   \n",
       "3             37.808848            -122.249680    11705    casual   \n",
       "4             37.802746            -122.413579     3673    casual   \n",
       "\n",
       "  rental_access_method  \n",
       "0                  NaN  \n",
       "1                  NaN  \n",
       "2                  NaN  \n",
       "3                  NaN  \n",
       "4                  NaN  "
      ]
     },
     "execution_count": 80,
     "metadata": {},
     "output_type": "execute_result"
    }
   ],
   "source": [
    "df1=pd.read_csv('1.csv')\n",
    "#standardize the user_type to match the other dataframes\n",
    "df1['user_type'].replace(to_replace=['Customer','Subscriber'],value=['casual','member'],inplace=True)\n",
    "df1.head()"
   ]
  },
  {
   "cell_type": "code",
   "execution_count": 81,
   "metadata": {
    "slideshow": {
     "slide_type": "skip"
    }
   },
   "outputs": [
    {
     "data": {
      "text/html": [
       "<div>\n",
       "<style scoped>\n",
       "    .dataframe tbody tr th:only-of-type {\n",
       "        vertical-align: middle;\n",
       "    }\n",
       "\n",
       "    .dataframe tbody tr th {\n",
       "        vertical-align: top;\n",
       "    }\n",
       "\n",
       "    .dataframe thead th {\n",
       "        text-align: right;\n",
       "    }\n",
       "</style>\n",
       "<table border=\"1\" class=\"dataframe\">\n",
       "  <thead>\n",
       "    <tr style=\"text-align: right;\">\n",
       "      <th></th>\n",
       "      <th>duration_sec</th>\n",
       "      <th>start_time</th>\n",
       "      <th>end_time</th>\n",
       "      <th>start_station_id</th>\n",
       "      <th>start_station_name</th>\n",
       "      <th>start_station_latitude</th>\n",
       "      <th>start_station_longitude</th>\n",
       "      <th>end_station_id</th>\n",
       "      <th>end_station_name</th>\n",
       "      <th>end_station_latitude</th>\n",
       "      <th>end_station_longitude</th>\n",
       "      <th>bike_id</th>\n",
       "      <th>user_type</th>\n",
       "      <th>rental_access_method</th>\n",
       "    </tr>\n",
       "  </thead>\n",
       "  <tbody>\n",
       "    <tr>\n",
       "      <th>0</th>\n",
       "      <td>62083</td>\n",
       "      <td>2020-02-29 18:32:30.5750</td>\n",
       "      <td>2020-03-01 11:47:14.0850</td>\n",
       "      <td>176.0</td>\n",
       "      <td>MacArthur BART Station</td>\n",
       "      <td>37.828410</td>\n",
       "      <td>-122.266315</td>\n",
       "      <td>267.0</td>\n",
       "      <td>Derby St at College Ave</td>\n",
       "      <td>37.861804</td>\n",
       "      <td>-122.253569</td>\n",
       "      <td>1993</td>\n",
       "      <td>casual</td>\n",
       "      <td>NaN</td>\n",
       "    </tr>\n",
       "    <tr>\n",
       "      <th>1</th>\n",
       "      <td>1364</td>\n",
       "      <td>2020-02-29 23:53:53.7190</td>\n",
       "      <td>2020-03-01 00:16:37.9720</td>\n",
       "      <td>375.0</td>\n",
       "      <td>Grove St at Masonic Ave</td>\n",
       "      <td>37.774836</td>\n",
       "      <td>-122.446546</td>\n",
       "      <td>506.0</td>\n",
       "      <td>7th Ave at Clement St</td>\n",
       "      <td>37.782439</td>\n",
       "      <td>-122.465377</td>\n",
       "      <td>12402</td>\n",
       "      <td>casual</td>\n",
       "      <td>NaN</td>\n",
       "    </tr>\n",
       "    <tr>\n",
       "      <th>2</th>\n",
       "      <td>836</td>\n",
       "      <td>2020-02-29 23:54:03.1970</td>\n",
       "      <td>2020-03-01 00:07:59.8490</td>\n",
       "      <td>375.0</td>\n",
       "      <td>Grove St at Masonic Ave</td>\n",
       "      <td>37.774836</td>\n",
       "      <td>-122.446546</td>\n",
       "      <td>454.0</td>\n",
       "      <td>7th Ave at Cabrillo St</td>\n",
       "      <td>37.775176</td>\n",
       "      <td>-122.465007</td>\n",
       "      <td>2302</td>\n",
       "      <td>casual</td>\n",
       "      <td>NaN</td>\n",
       "    </tr>\n",
       "    <tr>\n",
       "      <th>3</th>\n",
       "      <td>1004</td>\n",
       "      <td>2020-02-29 23:48:34.6480</td>\n",
       "      <td>2020-03-01 00:05:19.2020</td>\n",
       "      <td>179.0</td>\n",
       "      <td>Telegraph Ave at 27th St</td>\n",
       "      <td>37.816073</td>\n",
       "      <td>-122.267886</td>\n",
       "      <td>200.0</td>\n",
       "      <td>2nd Ave at E 18th St</td>\n",
       "      <td>37.800214</td>\n",
       "      <td>-122.253810</td>\n",
       "      <td>902</td>\n",
       "      <td>casual</td>\n",
       "      <td>NaN</td>\n",
       "    </tr>\n",
       "    <tr>\n",
       "      <th>4</th>\n",
       "      <td>1007</td>\n",
       "      <td>2020-02-29 23:48:25.9000</td>\n",
       "      <td>2020-03-01 00:05:13.4490</td>\n",
       "      <td>179.0</td>\n",
       "      <td>Telegraph Ave at 27th St</td>\n",
       "      <td>37.816073</td>\n",
       "      <td>-122.267886</td>\n",
       "      <td>200.0</td>\n",
       "      <td>2nd Ave at E 18th St</td>\n",
       "      <td>37.800214</td>\n",
       "      <td>-122.253810</td>\n",
       "      <td>11578</td>\n",
       "      <td>casual</td>\n",
       "      <td>NaN</td>\n",
       "    </tr>\n",
       "  </tbody>\n",
       "</table>\n",
       "</div>"
      ],
      "text/plain": [
       "   duration_sec                start_time                  end_time  \\\n",
       "0         62083  2020-02-29 18:32:30.5750  2020-03-01 11:47:14.0850   \n",
       "1          1364  2020-02-29 23:53:53.7190  2020-03-01 00:16:37.9720   \n",
       "2           836  2020-02-29 23:54:03.1970  2020-03-01 00:07:59.8490   \n",
       "3          1004  2020-02-29 23:48:34.6480  2020-03-01 00:05:19.2020   \n",
       "4          1007  2020-02-29 23:48:25.9000  2020-03-01 00:05:13.4490   \n",
       "\n",
       "   start_station_id        start_station_name  start_station_latitude  \\\n",
       "0             176.0    MacArthur BART Station               37.828410   \n",
       "1             375.0   Grove St at Masonic Ave               37.774836   \n",
       "2             375.0   Grove St at Masonic Ave               37.774836   \n",
       "3             179.0  Telegraph Ave at 27th St               37.816073   \n",
       "4             179.0  Telegraph Ave at 27th St               37.816073   \n",
       "\n",
       "   start_station_longitude  end_station_id         end_station_name  \\\n",
       "0              -122.266315           267.0  Derby St at College Ave   \n",
       "1              -122.446546           506.0    7th Ave at Clement St   \n",
       "2              -122.446546           454.0   7th Ave at Cabrillo St   \n",
       "3              -122.267886           200.0     2nd Ave at E 18th St   \n",
       "4              -122.267886           200.0     2nd Ave at E 18th St   \n",
       "\n",
       "   end_station_latitude  end_station_longitude  bike_id user_type  \\\n",
       "0             37.861804            -122.253569     1993    casual   \n",
       "1             37.782439            -122.465377    12402    casual   \n",
       "2             37.775176            -122.465007     2302    casual   \n",
       "3             37.800214            -122.253810      902    casual   \n",
       "4             37.800214            -122.253810    11578    casual   \n",
       "\n",
       "  rental_access_method  \n",
       "0                  NaN  \n",
       "1                  NaN  \n",
       "2                  NaN  \n",
       "3                  NaN  \n",
       "4                  NaN  "
      ]
     },
     "execution_count": 81,
     "metadata": {},
     "output_type": "execute_result"
    }
   ],
   "source": [
    "df2=pd.read_csv('2.csv')\n",
    "#standardize the user_type to match the other dataframes\n",
    "df2['user_type'].replace(to_replace=['Customer','Subscriber'],value=['casual','member'],inplace=True)\n",
    "df2.head()"
   ]
  },
  {
   "cell_type": "code",
   "execution_count": 82,
   "metadata": {
    "slideshow": {
     "slide_type": "skip"
    }
   },
   "outputs": [
    {
     "data": {
      "text/html": [
       "<div>\n",
       "<style scoped>\n",
       "    .dataframe tbody tr th:only-of-type {\n",
       "        vertical-align: middle;\n",
       "    }\n",
       "\n",
       "    .dataframe tbody tr th {\n",
       "        vertical-align: top;\n",
       "    }\n",
       "\n",
       "    .dataframe thead th {\n",
       "        text-align: right;\n",
       "    }\n",
       "</style>\n",
       "<table border=\"1\" class=\"dataframe\">\n",
       "  <thead>\n",
       "    <tr style=\"text-align: right;\">\n",
       "      <th></th>\n",
       "      <th>duration_sec</th>\n",
       "      <th>start_time</th>\n",
       "      <th>end_time</th>\n",
       "      <th>start_station_id</th>\n",
       "      <th>start_station_name</th>\n",
       "      <th>start_station_latitude</th>\n",
       "      <th>start_station_longitude</th>\n",
       "      <th>end_station_id</th>\n",
       "      <th>end_station_name</th>\n",
       "      <th>end_station_latitude</th>\n",
       "      <th>end_station_longitude</th>\n",
       "      <th>bike_id</th>\n",
       "      <th>user_type</th>\n",
       "      <th>rental_access_method</th>\n",
       "    </tr>\n",
       "  </thead>\n",
       "  <tbody>\n",
       "    <tr>\n",
       "      <th>0</th>\n",
       "      <td>35187</td>\n",
       "      <td>2020-03-31 20:42:10.0790</td>\n",
       "      <td>2020-04-01 06:28:37.8440</td>\n",
       "      <td>462.0</td>\n",
       "      <td>Cruise Terminal at Pier 27</td>\n",
       "      <td>37.804648</td>\n",
       "      <td>-122.402087</td>\n",
       "      <td>24.0</td>\n",
       "      <td>Spear St at Folsom St</td>\n",
       "      <td>37.789677</td>\n",
       "      <td>-122.390428</td>\n",
       "      <td>10982</td>\n",
       "      <td>casual</td>\n",
       "      <td>NaN</td>\n",
       "    </tr>\n",
       "    <tr>\n",
       "      <th>1</th>\n",
       "      <td>14568</td>\n",
       "      <td>2020-03-31 22:45:25.5010</td>\n",
       "      <td>2020-04-01 02:48:13.7730</td>\n",
       "      <td>42.0</td>\n",
       "      <td>San Francisco City Hall (Polk St at Grove St)</td>\n",
       "      <td>37.778650</td>\n",
       "      <td>-122.418230</td>\n",
       "      <td>370.0</td>\n",
       "      <td>Jones St at Post St</td>\n",
       "      <td>37.787327</td>\n",
       "      <td>-122.413278</td>\n",
       "      <td>12617</td>\n",
       "      <td>casual</td>\n",
       "      <td>NaN</td>\n",
       "    </tr>\n",
       "    <tr>\n",
       "      <th>2</th>\n",
       "      <td>35990</td>\n",
       "      <td>2020-03-31 15:08:22.3310</td>\n",
       "      <td>2020-04-01 01:08:12.9900</td>\n",
       "      <td>391.0</td>\n",
       "      <td>1st St at Younger Ave</td>\n",
       "      <td>37.355030</td>\n",
       "      <td>-121.904436</td>\n",
       "      <td>397.0</td>\n",
       "      <td>Gish Rd at 1st St</td>\n",
       "      <td>37.361867</td>\n",
       "      <td>-121.909315</td>\n",
       "      <td>12812</td>\n",
       "      <td>casual</td>\n",
       "      <td>NaN</td>\n",
       "    </tr>\n",
       "    <tr>\n",
       "      <th>3</th>\n",
       "      <td>1068</td>\n",
       "      <td>2020-03-31 23:55:00.4260</td>\n",
       "      <td>2020-04-01 00:12:49.0200</td>\n",
       "      <td>456.0</td>\n",
       "      <td>Arguello Blvd at Geary Blvd</td>\n",
       "      <td>37.781468</td>\n",
       "      <td>-122.458806</td>\n",
       "      <td>107.0</td>\n",
       "      <td>17th St at Dolores St</td>\n",
       "      <td>37.763015</td>\n",
       "      <td>-122.426497</td>\n",
       "      <td>12955</td>\n",
       "      <td>casual</td>\n",
       "      <td>NaN</td>\n",
       "    </tr>\n",
       "    <tr>\n",
       "      <th>4</th>\n",
       "      <td>3300</td>\n",
       "      <td>2020-03-31 23:00:55.6410</td>\n",
       "      <td>2020-03-31 23:55:56.6110</td>\n",
       "      <td>6.0</td>\n",
       "      <td>The Embarcadero at Sansome St</td>\n",
       "      <td>37.804770</td>\n",
       "      <td>-122.403234</td>\n",
       "      <td>24.0</td>\n",
       "      <td>Spear St at Folsom St</td>\n",
       "      <td>37.789677</td>\n",
       "      <td>-122.390428</td>\n",
       "      <td>13050</td>\n",
       "      <td>casual</td>\n",
       "      <td>NaN</td>\n",
       "    </tr>\n",
       "  </tbody>\n",
       "</table>\n",
       "</div>"
      ],
      "text/plain": [
       "   duration_sec                start_time                  end_time  \\\n",
       "0         35187  2020-03-31 20:42:10.0790  2020-04-01 06:28:37.8440   \n",
       "1         14568  2020-03-31 22:45:25.5010  2020-04-01 02:48:13.7730   \n",
       "2         35990  2020-03-31 15:08:22.3310  2020-04-01 01:08:12.9900   \n",
       "3          1068  2020-03-31 23:55:00.4260  2020-04-01 00:12:49.0200   \n",
       "4          3300  2020-03-31 23:00:55.6410  2020-03-31 23:55:56.6110   \n",
       "\n",
       "   start_station_id                             start_station_name  \\\n",
       "0             462.0                     Cruise Terminal at Pier 27   \n",
       "1              42.0  San Francisco City Hall (Polk St at Grove St)   \n",
       "2             391.0                          1st St at Younger Ave   \n",
       "3             456.0                    Arguello Blvd at Geary Blvd   \n",
       "4               6.0                  The Embarcadero at Sansome St   \n",
       "\n",
       "   start_station_latitude  start_station_longitude  end_station_id  \\\n",
       "0               37.804648              -122.402087            24.0   \n",
       "1               37.778650              -122.418230           370.0   \n",
       "2               37.355030              -121.904436           397.0   \n",
       "3               37.781468              -122.458806           107.0   \n",
       "4               37.804770              -122.403234            24.0   \n",
       "\n",
       "        end_station_name  end_station_latitude  end_station_longitude  \\\n",
       "0  Spear St at Folsom St             37.789677            -122.390428   \n",
       "1    Jones St at Post St             37.787327            -122.413278   \n",
       "2      Gish Rd at 1st St             37.361867            -121.909315   \n",
       "3  17th St at Dolores St             37.763015            -122.426497   \n",
       "4  Spear St at Folsom St             37.789677            -122.390428   \n",
       "\n",
       "   bike_id user_type rental_access_method  \n",
       "0    10982    casual                  NaN  \n",
       "1    12617    casual                  NaN  \n",
       "2    12812    casual                  NaN  \n",
       "3    12955    casual                  NaN  \n",
       "4    13050    casual                  NaN  "
      ]
     },
     "execution_count": 82,
     "metadata": {},
     "output_type": "execute_result"
    }
   ],
   "source": [
    "df3=pd.read_csv('3.csv')\n",
    "#standardize the user_type to match the other dataframes\n",
    "df3['user_type'].replace(to_replace=['Customer','Subscriber'],value=['casual','member'],inplace=True)\n",
    "df3.head()"
   ]
  },
  {
   "cell_type": "code",
   "execution_count": 105,
   "metadata": {
    "slideshow": {
     "slide_type": "skip"
    }
   },
   "outputs": [
    {
     "data": {
      "text/html": [
       "<div>\n",
       "<style scoped>\n",
       "    .dataframe tbody tr th:only-of-type {\n",
       "        vertical-align: middle;\n",
       "    }\n",
       "\n",
       "    .dataframe tbody tr th {\n",
       "        vertical-align: top;\n",
       "    }\n",
       "\n",
       "    .dataframe thead th {\n",
       "        text-align: right;\n",
       "    }\n",
       "</style>\n",
       "<table border=\"1\" class=\"dataframe\">\n",
       "  <thead>\n",
       "    <tr style=\"text-align: right;\">\n",
       "      <th></th>\n",
       "      <th>ride_id</th>\n",
       "      <th>start_time</th>\n",
       "      <th>end_time</th>\n",
       "      <th>start_station_name</th>\n",
       "      <th>start_station_id</th>\n",
       "      <th>end_station_name</th>\n",
       "      <th>end_station_id</th>\n",
       "      <th>start_station_latitude</th>\n",
       "      <th>start_station_longitude</th>\n",
       "      <th>end_station_latitude</th>\n",
       "      <th>end_station_longitude</th>\n",
       "      <th>user_type</th>\n",
       "    </tr>\n",
       "  </thead>\n",
       "  <tbody>\n",
       "    <tr>\n",
       "      <th>0</th>\n",
       "      <td>5A1FF31692371859</td>\n",
       "      <td>2020-04-04 08:28:20</td>\n",
       "      <td>2020-04-04 08:33:34</td>\n",
       "      <td>NaN</td>\n",
       "      <td>NaN</td>\n",
       "      <td>NaN</td>\n",
       "      <td>NaN</td>\n",
       "      <td>37.7692</td>\n",
       "      <td>-122.4209</td>\n",
       "      <td>37.7703</td>\n",
       "      <td>-122.4069</td>\n",
       "      <td>casual</td>\n",
       "    </tr>\n",
       "    <tr>\n",
       "      <th>1</th>\n",
       "      <td>D8D5BA2D4F051133</td>\n",
       "      <td>2020-04-03 18:55:43</td>\n",
       "      <td>2020-04-03 19:21:05</td>\n",
       "      <td>NaN</td>\n",
       "      <td>NaN</td>\n",
       "      <td>NaN</td>\n",
       "      <td>NaN</td>\n",
       "      <td>37.8023</td>\n",
       "      <td>-122.4244</td>\n",
       "      <td>37.8023</td>\n",
       "      <td>-122.4244</td>\n",
       "      <td>casual</td>\n",
       "    </tr>\n",
       "    <tr>\n",
       "      <th>2</th>\n",
       "      <td>A3633A9140CA4FF8</td>\n",
       "      <td>2020-04-04 15:11:04</td>\n",
       "      <td>2020-04-04 15:12:21</td>\n",
       "      <td>NaN</td>\n",
       "      <td>NaN</td>\n",
       "      <td>NaN</td>\n",
       "      <td>NaN</td>\n",
       "      <td>37.7667</td>\n",
       "      <td>-122.3961</td>\n",
       "      <td>37.7667</td>\n",
       "      <td>-122.3962</td>\n",
       "      <td>casual</td>\n",
       "    </tr>\n",
       "    <tr>\n",
       "      <th>3</th>\n",
       "      <td>301F57EB0197A5E0</td>\n",
       "      <td>2020-04-03 20:21:03</td>\n",
       "      <td>2020-04-03 22:08:06</td>\n",
       "      <td>8th St at Ringold St</td>\n",
       "      <td>60.0</td>\n",
       "      <td>NaN</td>\n",
       "      <td>NaN</td>\n",
       "      <td>37.7744</td>\n",
       "      <td>-122.4095</td>\n",
       "      <td>37.7805</td>\n",
       "      <td>-122.4033</td>\n",
       "      <td>casual</td>\n",
       "    </tr>\n",
       "    <tr>\n",
       "      <th>4</th>\n",
       "      <td>9429C701AF5744B3</td>\n",
       "      <td>2020-04-03 18:39:39</td>\n",
       "      <td>2020-04-03 18:47:19</td>\n",
       "      <td>NaN</td>\n",
       "      <td>NaN</td>\n",
       "      <td>NaN</td>\n",
       "      <td>NaN</td>\n",
       "      <td>37.8027</td>\n",
       "      <td>-122.4433</td>\n",
       "      <td>37.8009</td>\n",
       "      <td>-122.4269</td>\n",
       "      <td>casual</td>\n",
       "    </tr>\n",
       "  </tbody>\n",
       "</table>\n",
       "</div>"
      ],
      "text/plain": [
       "            ride_id           start_time             end_time  \\\n",
       "0  5A1FF31692371859  2020-04-04 08:28:20  2020-04-04 08:33:34   \n",
       "1  D8D5BA2D4F051133  2020-04-03 18:55:43  2020-04-03 19:21:05   \n",
       "2  A3633A9140CA4FF8  2020-04-04 15:11:04  2020-04-04 15:12:21   \n",
       "3  301F57EB0197A5E0  2020-04-03 20:21:03  2020-04-03 22:08:06   \n",
       "4  9429C701AF5744B3  2020-04-03 18:39:39  2020-04-03 18:47:19   \n",
       "\n",
       "     start_station_name  start_station_id end_station_name  end_station_id  \\\n",
       "0                   NaN               NaN              NaN             NaN   \n",
       "1                   NaN               NaN              NaN             NaN   \n",
       "2                   NaN               NaN              NaN             NaN   \n",
       "3  8th St at Ringold St              60.0              NaN             NaN   \n",
       "4                   NaN               NaN              NaN             NaN   \n",
       "\n",
       "   start_station_latitude  start_station_longitude  end_station_latitude  \\\n",
       "0                 37.7692                -122.4209               37.7703   \n",
       "1                 37.8023                -122.4244               37.8023   \n",
       "2                 37.7667                -122.3961               37.7667   \n",
       "3                 37.7744                -122.4095               37.7805   \n",
       "4                 37.8027                -122.4433               37.8009   \n",
       "\n",
       "   end_station_longitude user_type  \n",
       "0              -122.4069    casual  \n",
       "1              -122.4244    casual  \n",
       "2              -122.3962    casual  \n",
       "3              -122.4033    casual  \n",
       "4              -122.4269    casual  "
      ]
     },
     "execution_count": 105,
     "metadata": {},
     "output_type": "execute_result"
    }
   ],
   "source": [
    "df4=pd.read_csv('4.csv')\n",
    "#standardize the column names to match the dataframes\n",
    "df4.rename(columns={'start_lat':'start_station_latitude','start_lng':'start_station_longitude',\n",
    "                   'end_lat':'end_station_latitude','end_lng':'end_station_longitude','member_casual':'user_type',\n",
    "                    'started_at':'start_time','ended_at':'end_time'\n",
    "                   },inplace=True)\n",
    "df4.drop(labels=['rideable_type'],axis=1,inplace=True)#Remove rideable_type as it is only present in this dataframe\n",
    "df4.head()"
   ]
  },
  {
   "cell_type": "code",
   "execution_count": 86,
   "metadata": {
    "slideshow": {
     "slide_type": "skip"
    }
   },
   "outputs": [
    {
     "data": {
      "text/html": [
       "<div>\n",
       "<style scoped>\n",
       "    .dataframe tbody tr th:only-of-type {\n",
       "        vertical-align: middle;\n",
       "    }\n",
       "\n",
       "    .dataframe tbody tr th {\n",
       "        vertical-align: top;\n",
       "    }\n",
       "\n",
       "    .dataframe thead th {\n",
       "        text-align: right;\n",
       "    }\n",
       "</style>\n",
       "<table border=\"1\" class=\"dataframe\">\n",
       "  <thead>\n",
       "    <tr style=\"text-align: right;\">\n",
       "      <th></th>\n",
       "      <th>ride_id</th>\n",
       "      <th>rideable_type</th>\n",
       "      <th>start_time</th>\n",
       "      <th>end_time</th>\n",
       "      <th>start_station_name</th>\n",
       "      <th>start_station_id</th>\n",
       "      <th>end_station_name</th>\n",
       "      <th>end_station_id</th>\n",
       "      <th>start_station_latitude</th>\n",
       "      <th>start_station_longitude</th>\n",
       "      <th>end_station_latitude</th>\n",
       "      <th>end_station_longitude</th>\n",
       "      <th>user_type</th>\n",
       "    </tr>\n",
       "  </thead>\n",
       "  <tbody>\n",
       "    <tr>\n",
       "      <th>0</th>\n",
       "      <td>BA4B4D93677877E8</td>\n",
       "      <td>electric_bike</td>\n",
       "      <td>2020-05-18 22:16:06</td>\n",
       "      <td>2020-05-18 22:28:20</td>\n",
       "      <td>NaN</td>\n",
       "      <td>NaN</td>\n",
       "      <td>NaN</td>\n",
       "      <td>NaN</td>\n",
       "      <td>37.3443</td>\n",
       "      <td>-121.9218</td>\n",
       "      <td>37.3443</td>\n",
       "      <td>-121.9217</td>\n",
       "      <td>casual</td>\n",
       "    </tr>\n",
       "    <tr>\n",
       "      <th>1</th>\n",
       "      <td>92634E825C7303CC</td>\n",
       "      <td>electric_bike</td>\n",
       "      <td>2020-05-19 16:57:35</td>\n",
       "      <td>2020-05-19 17:29:56</td>\n",
       "      <td>NaN</td>\n",
       "      <td>NaN</td>\n",
       "      <td>NaN</td>\n",
       "      <td>NaN</td>\n",
       "      <td>37.7286</td>\n",
       "      <td>-122.4921</td>\n",
       "      <td>37.7154</td>\n",
       "      <td>-122.4854</td>\n",
       "      <td>casual</td>\n",
       "    </tr>\n",
       "    <tr>\n",
       "      <th>2</th>\n",
       "      <td>1FCDD14C62521CC1</td>\n",
       "      <td>electric_bike</td>\n",
       "      <td>2020-05-18 20:08:14</td>\n",
       "      <td>2020-05-18 20:14:25</td>\n",
       "      <td>NaN</td>\n",
       "      <td>NaN</td>\n",
       "      <td>Webster St at Clay St</td>\n",
       "      <td>492.0</td>\n",
       "      <td>37.7919</td>\n",
       "      <td>-122.4174</td>\n",
       "      <td>37.7906</td>\n",
       "      <td>-122.4325</td>\n",
       "      <td>casual</td>\n",
       "    </tr>\n",
       "    <tr>\n",
       "      <th>3</th>\n",
       "      <td>3A5CEC684CA9FA18</td>\n",
       "      <td>electric_bike</td>\n",
       "      <td>2020-05-19 14:05:08</td>\n",
       "      <td>2020-05-19 14:14:16</td>\n",
       "      <td>NaN</td>\n",
       "      <td>NaN</td>\n",
       "      <td>NaN</td>\n",
       "      <td>NaN</td>\n",
       "      <td>37.7557</td>\n",
       "      <td>-122.4165</td>\n",
       "      <td>37.7681</td>\n",
       "      <td>-122.4266</td>\n",
       "      <td>casual</td>\n",
       "    </tr>\n",
       "    <tr>\n",
       "      <th>4</th>\n",
       "      <td>1FF95A9C2D1ED7F8</td>\n",
       "      <td>electric_bike</td>\n",
       "      <td>2020-05-10 17:45:54</td>\n",
       "      <td>2020-05-10 18:29:29</td>\n",
       "      <td>Pier 1/2 at The Embarcadero</td>\n",
       "      <td>12.0</td>\n",
       "      <td>NaN</td>\n",
       "      <td>NaN</td>\n",
       "      <td>37.7964</td>\n",
       "      <td>-122.3946</td>\n",
       "      <td>37.7780</td>\n",
       "      <td>-122.4144</td>\n",
       "      <td>casual</td>\n",
       "    </tr>\n",
       "  </tbody>\n",
       "</table>\n",
       "</div>"
      ],
      "text/plain": [
       "            ride_id  rideable_type           start_time             end_time  \\\n",
       "0  BA4B4D93677877E8  electric_bike  2020-05-18 22:16:06  2020-05-18 22:28:20   \n",
       "1  92634E825C7303CC  electric_bike  2020-05-19 16:57:35  2020-05-19 17:29:56   \n",
       "2  1FCDD14C62521CC1  electric_bike  2020-05-18 20:08:14  2020-05-18 20:14:25   \n",
       "3  3A5CEC684CA9FA18  electric_bike  2020-05-19 14:05:08  2020-05-19 14:14:16   \n",
       "4  1FF95A9C2D1ED7F8  electric_bike  2020-05-10 17:45:54  2020-05-10 18:29:29   \n",
       "\n",
       "            start_station_name  start_station_id       end_station_name  \\\n",
       "0                          NaN               NaN                    NaN   \n",
       "1                          NaN               NaN                    NaN   \n",
       "2                          NaN               NaN  Webster St at Clay St   \n",
       "3                          NaN               NaN                    NaN   \n",
       "4  Pier 1/2 at The Embarcadero              12.0                    NaN   \n",
       "\n",
       "   end_station_id  start_station_latitude  start_station_longitude  \\\n",
       "0             NaN                 37.3443                -121.9218   \n",
       "1             NaN                 37.7286                -122.4921   \n",
       "2           492.0                 37.7919                -122.4174   \n",
       "3             NaN                 37.7557                -122.4165   \n",
       "4             NaN                 37.7964                -122.3946   \n",
       "\n",
       "   end_station_latitude  end_station_longitude user_type  \n",
       "0               37.3443              -121.9217    casual  \n",
       "1               37.7154              -122.4854    casual  \n",
       "2               37.7906              -122.4325    casual  \n",
       "3               37.7681              -122.4266    casual  \n",
       "4               37.7780              -122.4144    casual  "
      ]
     },
     "execution_count": 86,
     "metadata": {},
     "output_type": "execute_result"
    }
   ],
   "source": [
    "df5=pd.read_csv('5.csv')\n",
    "#standardize the column names to match the dataframes\n",
    "df5.rename(columns={'start_lat':'start_station_latitude','start_lng':'start_station_longitude',\n",
    "                   'end_lat':'end_station_latitude','end_lng':'end_station_longitude','member_casual':'user_type',\n",
    "                    'started_at':'start_time','ended_at':'end_time'\n",
    "                   },inplace=True)\n",
    "df5.drop(columns=['is_equity'],axis=1,inplace=True)# drop is_equity columns as it is only present in this dataframe\n",
    "\n",
    "df5.head()"
   ]
  },
  {
   "cell_type": "code",
   "execution_count": 213,
   "metadata": {
    "slideshow": {
     "slide_type": "skip"
    }
   },
   "outputs": [
    {
     "data": {
      "text/html": [
       "<div>\n",
       "<style scoped>\n",
       "    .dataframe tbody tr th:only-of-type {\n",
       "        vertical-align: middle;\n",
       "    }\n",
       "\n",
       "    .dataframe tbody tr th {\n",
       "        vertical-align: top;\n",
       "    }\n",
       "\n",
       "    .dataframe thead th {\n",
       "        text-align: right;\n",
       "    }\n",
       "</style>\n",
       "<table border=\"1\" class=\"dataframe\">\n",
       "  <thead>\n",
       "    <tr style=\"text-align: right;\">\n",
       "      <th></th>\n",
       "      <th>ride_id</th>\n",
       "      <th>start_time</th>\n",
       "      <th>end_time</th>\n",
       "      <th>start_station_name</th>\n",
       "      <th>start_station_id</th>\n",
       "      <th>end_station_name</th>\n",
       "      <th>end_station_id</th>\n",
       "      <th>start_station_latitude</th>\n",
       "      <th>start_station_longitude</th>\n",
       "      <th>end_station_latitude</th>\n",
       "      <th>end_station_longitude</th>\n",
       "      <th>user_type</th>\n",
       "    </tr>\n",
       "  </thead>\n",
       "  <tbody>\n",
       "    <tr>\n",
       "      <th>0</th>\n",
       "      <td>08A4A9F7315901F3</td>\n",
       "      <td>2020-06-03 16:37:10</td>\n",
       "      <td>2020-06-03 16:48:28</td>\n",
       "      <td>NaN</td>\n",
       "      <td>NaN</td>\n",
       "      <td>NaN</td>\n",
       "      <td>NaN</td>\n",
       "      <td>37.770000</td>\n",
       "      <td>-122.40000</td>\n",
       "      <td>37.760000</td>\n",
       "      <td>-122.420000</td>\n",
       "      <td>casual</td>\n",
       "    </tr>\n",
       "    <tr>\n",
       "      <th>1</th>\n",
       "      <td>844F9D906468C441</td>\n",
       "      <td>2020-06-03 12:22:47</td>\n",
       "      <td>2020-06-03 12:44:02</td>\n",
       "      <td>NaN</td>\n",
       "      <td>NaN</td>\n",
       "      <td>NaN</td>\n",
       "      <td>NaN</td>\n",
       "      <td>37.780000</td>\n",
       "      <td>-122.49000</td>\n",
       "      <td>37.780000</td>\n",
       "      <td>-122.460000</td>\n",
       "      <td>casual</td>\n",
       "    </tr>\n",
       "    <tr>\n",
       "      <th>2</th>\n",
       "      <td>0E441BF8A86C544E</td>\n",
       "      <td>2020-06-02 17:37:43</td>\n",
       "      <td>2020-06-02 17:52:21</td>\n",
       "      <td>Powell St at Columbus Ave</td>\n",
       "      <td>487.0</td>\n",
       "      <td>NaN</td>\n",
       "      <td>NaN</td>\n",
       "      <td>37.800426</td>\n",
       "      <td>-122.41095</td>\n",
       "      <td>37.790000</td>\n",
       "      <td>-122.440000</td>\n",
       "      <td>casual</td>\n",
       "    </tr>\n",
       "    <tr>\n",
       "      <th>3</th>\n",
       "      <td>CAFE64864422F475</td>\n",
       "      <td>2020-06-02 18:13:01</td>\n",
       "      <td>2020-06-02 18:48:30</td>\n",
       "      <td>NaN</td>\n",
       "      <td>NaN</td>\n",
       "      <td>NaN</td>\n",
       "      <td>NaN</td>\n",
       "      <td>37.760000</td>\n",
       "      <td>-122.41000</td>\n",
       "      <td>37.770000</td>\n",
       "      <td>-122.430000</td>\n",
       "      <td>casual</td>\n",
       "    </tr>\n",
       "    <tr>\n",
       "      <th>4</th>\n",
       "      <td>172957A20160D568</td>\n",
       "      <td>2020-06-03 15:16:06</td>\n",
       "      <td>2020-06-03 16:06:10</td>\n",
       "      <td>Church St at Duboce Ave</td>\n",
       "      <td>85.0</td>\n",
       "      <td>48th Ave at Cabrillo St</td>\n",
       "      <td>521.0</td>\n",
       "      <td>37.769841</td>\n",
       "      <td>-122.42921</td>\n",
       "      <td>37.772894</td>\n",
       "      <td>-122.509079</td>\n",
       "      <td>casual</td>\n",
       "    </tr>\n",
       "  </tbody>\n",
       "</table>\n",
       "</div>"
      ],
      "text/plain": [
       "            ride_id           start_time             end_time  \\\n",
       "0  08A4A9F7315901F3  2020-06-03 16:37:10  2020-06-03 16:48:28   \n",
       "1  844F9D906468C441  2020-06-03 12:22:47  2020-06-03 12:44:02   \n",
       "2  0E441BF8A86C544E  2020-06-02 17:37:43  2020-06-02 17:52:21   \n",
       "3  CAFE64864422F475  2020-06-02 18:13:01  2020-06-02 18:48:30   \n",
       "4  172957A20160D568  2020-06-03 15:16:06  2020-06-03 16:06:10   \n",
       "\n",
       "          start_station_name  start_station_id         end_station_name  \\\n",
       "0                        NaN               NaN                      NaN   \n",
       "1                        NaN               NaN                      NaN   \n",
       "2  Powell St at Columbus Ave             487.0                      NaN   \n",
       "3                        NaN               NaN                      NaN   \n",
       "4    Church St at Duboce Ave              85.0  48th Ave at Cabrillo St   \n",
       "\n",
       "   end_station_id  start_station_latitude  start_station_longitude  \\\n",
       "0             NaN               37.770000               -122.40000   \n",
       "1             NaN               37.780000               -122.49000   \n",
       "2             NaN               37.800426               -122.41095   \n",
       "3             NaN               37.760000               -122.41000   \n",
       "4           521.0               37.769841               -122.42921   \n",
       "\n",
       "   end_station_latitude  end_station_longitude user_type  \n",
       "0             37.760000            -122.420000    casual  \n",
       "1             37.780000            -122.460000    casual  \n",
       "2             37.790000            -122.440000    casual  \n",
       "3             37.770000            -122.430000    casual  \n",
       "4             37.772894            -122.509079    casual  "
      ]
     },
     "execution_count": 213,
     "metadata": {},
     "output_type": "execute_result"
    }
   ],
   "source": [
    "df6=pd.read_csv('6.csv')\n",
    "#standardize the column names to match the dataframes\n",
    "df6.rename(columns={'start_lat':'start_station_latitude','start_lng':'start_station_longitude',\n",
    "                   'end_lat':'end_station_latitude','end_lng':'end_station_longitude','member_casual':'user_type',\n",
    "                    'started_at':'start_time','ended_at':'end_time'\n",
    "                   },inplace=True)\n",
    "df6.drop(labels=['rideable_type'],axis=1,inplace=True)#Remove rideable_type as it is only present in this dataframe\n",
    "df6.head()"
   ]
  },
  {
   "cell_type": "code",
   "execution_count": 214,
   "metadata": {
    "slideshow": {
     "slide_type": "slide"
    }
   },
   "outputs": [
    {
     "data": {
      "text/html": [
       "<div>\n",
       "<style scoped>\n",
       "    .dataframe tbody tr th:only-of-type {\n",
       "        vertical-align: middle;\n",
       "    }\n",
       "\n",
       "    .dataframe tbody tr th {\n",
       "        vertical-align: top;\n",
       "    }\n",
       "\n",
       "    .dataframe thead th {\n",
       "        text-align: right;\n",
       "    }\n",
       "</style>\n",
       "<table border=\"1\" class=\"dataframe\">\n",
       "  <thead>\n",
       "    <tr style=\"text-align: right;\">\n",
       "      <th></th>\n",
       "      <th>bike_id</th>\n",
       "      <th>duration_sec</th>\n",
       "      <th>end_station_id</th>\n",
       "      <th>end_station_latitude</th>\n",
       "      <th>end_station_longitude</th>\n",
       "      <th>end_station_name</th>\n",
       "      <th>end_time</th>\n",
       "      <th>rental_access_method</th>\n",
       "      <th>ride_id</th>\n",
       "      <th>rideable_type</th>\n",
       "      <th>start_station_id</th>\n",
       "      <th>start_station_latitude</th>\n",
       "      <th>start_station_longitude</th>\n",
       "      <th>start_station_name</th>\n",
       "      <th>start_time</th>\n",
       "      <th>user_type</th>\n",
       "    </tr>\n",
       "  </thead>\n",
       "  <tbody>\n",
       "    <tr>\n",
       "      <th>0</th>\n",
       "      <td>13052.0</td>\n",
       "      <td>83118.0</td>\n",
       "      <td>400.0</td>\n",
       "      <td>37.804272</td>\n",
       "      <td>-122.433537</td>\n",
       "      <td>Buchanan St at North Point St</td>\n",
       "      <td>2020-02-01 14:29:06.2630</td>\n",
       "      <td>NaN</td>\n",
       "      <td>NaN</td>\n",
       "      <td>NaN</td>\n",
       "      <td>400.0</td>\n",
       "      <td>37.804272</td>\n",
       "      <td>-122.433537</td>\n",
       "      <td>Buchanan St at North Point St</td>\n",
       "      <td>2020-01-31 15:23:47.7330</td>\n",
       "      <td>casual</td>\n",
       "    </tr>\n",
       "    <tr>\n",
       "      <th>1</th>\n",
       "      <td>12235.0</td>\n",
       "      <td>68239.0</td>\n",
       "      <td>99.0</td>\n",
       "      <td>37.767037</td>\n",
       "      <td>-122.415443</td>\n",
       "      <td>Folsom St at 15th St</td>\n",
       "      <td>2020-02-01 10:37:51.0000</td>\n",
       "      <td>NaN</td>\n",
       "      <td>NaN</td>\n",
       "      <td>NaN</td>\n",
       "      <td>99.0</td>\n",
       "      <td>37.767037</td>\n",
       "      <td>-122.415443</td>\n",
       "      <td>Folsom St at 15th St</td>\n",
       "      <td>2020-01-31 15:40:31.6160</td>\n",
       "      <td>member</td>\n",
       "    </tr>\n",
       "    <tr>\n",
       "      <th>2</th>\n",
       "      <td>12822.0</td>\n",
       "      <td>55407.0</td>\n",
       "      <td>197.0</td>\n",
       "      <td>37.808848</td>\n",
       "      <td>-122.249680</td>\n",
       "      <td>El Embarcadero at Grand Ave</td>\n",
       "      <td>2020-02-01 09:11:44.3170</td>\n",
       "      <td>NaN</td>\n",
       "      <td>NaN</td>\n",
       "      <td>NaN</td>\n",
       "      <td>197.0</td>\n",
       "      <td>37.808848</td>\n",
       "      <td>-122.249680</td>\n",
       "      <td>El Embarcadero at Grand Ave</td>\n",
       "      <td>2020-01-31 17:48:16.6350</td>\n",
       "      <td>casual</td>\n",
       "    </tr>\n",
       "    <tr>\n",
       "      <th>3</th>\n",
       "      <td>11705.0</td>\n",
       "      <td>54929.0</td>\n",
       "      <td>197.0</td>\n",
       "      <td>37.808848</td>\n",
       "      <td>-122.249680</td>\n",
       "      <td>El Embarcadero at Grand Ave</td>\n",
       "      <td>2020-02-01 09:08:32.6340</td>\n",
       "      <td>NaN</td>\n",
       "      <td>NaN</td>\n",
       "      <td>NaN</td>\n",
       "      <td>197.0</td>\n",
       "      <td>37.808848</td>\n",
       "      <td>-122.249680</td>\n",
       "      <td>El Embarcadero at Grand Ave</td>\n",
       "      <td>2020-01-31 17:53:03.4130</td>\n",
       "      <td>casual</td>\n",
       "    </tr>\n",
       "    <tr>\n",
       "      <th>4</th>\n",
       "      <td>3673.0</td>\n",
       "      <td>55700.0</td>\n",
       "      <td>371.0</td>\n",
       "      <td>37.802746</td>\n",
       "      <td>-122.413579</td>\n",
       "      <td>Lombard St at Columbus Ave</td>\n",
       "      <td>2020-02-01 08:40:53.6460</td>\n",
       "      <td>NaN</td>\n",
       "      <td>NaN</td>\n",
       "      <td>NaN</td>\n",
       "      <td>12.0</td>\n",
       "      <td>37.796389</td>\n",
       "      <td>-122.394586</td>\n",
       "      <td>Pier 1/2 at The Embarcadero</td>\n",
       "      <td>2020-01-31 17:12:33.4600</td>\n",
       "      <td>casual</td>\n",
       "    </tr>\n",
       "  </tbody>\n",
       "</table>\n",
       "</div>"
      ],
      "text/plain": [
       "   bike_id  duration_sec  end_station_id  end_station_latitude  \\\n",
       "0  13052.0       83118.0           400.0             37.804272   \n",
       "1  12235.0       68239.0            99.0             37.767037   \n",
       "2  12822.0       55407.0           197.0             37.808848   \n",
       "3  11705.0       54929.0           197.0             37.808848   \n",
       "4   3673.0       55700.0           371.0             37.802746   \n",
       "\n",
       "   end_station_longitude               end_station_name  \\\n",
       "0            -122.433537  Buchanan St at North Point St   \n",
       "1            -122.415443           Folsom St at 15th St   \n",
       "2            -122.249680    El Embarcadero at Grand Ave   \n",
       "3            -122.249680    El Embarcadero at Grand Ave   \n",
       "4            -122.413579     Lombard St at Columbus Ave   \n",
       "\n",
       "                   end_time rental_access_method ride_id rideable_type  \\\n",
       "0  2020-02-01 14:29:06.2630                  NaN     NaN           NaN   \n",
       "1  2020-02-01 10:37:51.0000                  NaN     NaN           NaN   \n",
       "2  2020-02-01 09:11:44.3170                  NaN     NaN           NaN   \n",
       "3  2020-02-01 09:08:32.6340                  NaN     NaN           NaN   \n",
       "4  2020-02-01 08:40:53.6460                  NaN     NaN           NaN   \n",
       "\n",
       "   start_station_id  start_station_latitude  start_station_longitude  \\\n",
       "0             400.0               37.804272              -122.433537   \n",
       "1              99.0               37.767037              -122.415443   \n",
       "2             197.0               37.808848              -122.249680   \n",
       "3             197.0               37.808848              -122.249680   \n",
       "4              12.0               37.796389              -122.394586   \n",
       "\n",
       "              start_station_name                start_time user_type  \n",
       "0  Buchanan St at North Point St  2020-01-31 15:23:47.7330    casual  \n",
       "1           Folsom St at 15th St  2020-01-31 15:40:31.6160    member  \n",
       "2    El Embarcadero at Grand Ave  2020-01-31 17:48:16.6350    casual  \n",
       "3    El Embarcadero at Grand Ave  2020-01-31 17:53:03.4130    casual  \n",
       "4    Pier 1/2 at The Embarcadero  2020-01-31 17:12:33.4600    casual  "
      ]
     },
     "execution_count": 214,
     "metadata": {},
     "output_type": "execute_result"
    }
   ],
   "source": [
    "df=pd.DataFrame()# Create a new dataframe to get all the sub dataframes together\n",
    "df=df.append([df1,df2,df3,df4,df5,df6],ignore_index=True,verify_integrity=True)\n",
    "df.head()"
   ]
  },
  {
   "cell_type": "code",
   "execution_count": 215,
   "metadata": {
    "slideshow": {
     "slide_type": "skip"
    }
   },
   "outputs": [],
   "source": [
    "def calculate_distance(lat1,lon1,lat2,lon2):\n",
    "    # approximate radius of earth in km\n",
    "    R = 6373.0\n",
    "    dlon = lon2 - lon1\n",
    "    dlat = lat2 - lat1\n",
    "    a = sin(dlat / 2)**2 + cos(lat1) * cos(lat2) * sin(dlon / 2)**2\n",
    "    c = 2 * atan2(sqrt(a), sqrt(1 - a))\n",
    "    distance = R * c\n",
    "    return distance"
   ]
  },
  {
   "cell_type": "code",
   "execution_count": 216,
   "metadata": {
    "slideshow": {
     "slide_type": "skip"
    }
   },
   "outputs": [],
   "source": [
    "df['distance']=df.apply(lambda x:calculate_distance(x.start_station_latitude,x.start_station_longitude,\n",
    "                  x.end_station_latitude,x.end_station_longitude),axis=1)"
   ]
  },
  {
   "cell_type": "code",
   "execution_count": 217,
   "metadata": {
    "slideshow": {
     "slide_type": "skip"
    }
   },
   "outputs": [
    {
     "data": {
      "text/html": [
       "<div>\n",
       "<style scoped>\n",
       "    .dataframe tbody tr th:only-of-type {\n",
       "        vertical-align: middle;\n",
       "    }\n",
       "\n",
       "    .dataframe tbody tr th {\n",
       "        vertical-align: top;\n",
       "    }\n",
       "\n",
       "    .dataframe thead th {\n",
       "        text-align: right;\n",
       "    }\n",
       "</style>\n",
       "<table border=\"1\" class=\"dataframe\">\n",
       "  <thead>\n",
       "    <tr style=\"text-align: right;\">\n",
       "      <th></th>\n",
       "      <th>bike_id</th>\n",
       "      <th>duration_sec</th>\n",
       "      <th>end_station_id</th>\n",
       "      <th>end_station_latitude</th>\n",
       "      <th>end_station_longitude</th>\n",
       "      <th>end_station_name</th>\n",
       "      <th>end_time</th>\n",
       "      <th>rental_access_method</th>\n",
       "      <th>ride_id</th>\n",
       "      <th>rideable_type</th>\n",
       "      <th>start_station_id</th>\n",
       "      <th>start_station_latitude</th>\n",
       "      <th>start_station_longitude</th>\n",
       "      <th>start_station_name</th>\n",
       "      <th>start_time</th>\n",
       "      <th>user_type</th>\n",
       "      <th>distance</th>\n",
       "    </tr>\n",
       "  </thead>\n",
       "  <tbody>\n",
       "    <tr>\n",
       "      <th>0</th>\n",
       "      <td>13052.0</td>\n",
       "      <td>83118.0</td>\n",
       "      <td>400.0</td>\n",
       "      <td>37.804272</td>\n",
       "      <td>-122.433537</td>\n",
       "      <td>Buchanan St at North Point St</td>\n",
       "      <td>2020-02-01 14:29:06.2630</td>\n",
       "      <td>NaN</td>\n",
       "      <td>NaN</td>\n",
       "      <td>NaN</td>\n",
       "      <td>400.0</td>\n",
       "      <td>37.804272</td>\n",
       "      <td>-122.433537</td>\n",
       "      <td>Buchanan St at North Point St</td>\n",
       "      <td>2020-01-31 15:23:47.7330</td>\n",
       "      <td>casual</td>\n",
       "      <td>0.000000</td>\n",
       "    </tr>\n",
       "    <tr>\n",
       "      <th>1</th>\n",
       "      <td>12235.0</td>\n",
       "      <td>68239.0</td>\n",
       "      <td>99.0</td>\n",
       "      <td>37.767037</td>\n",
       "      <td>-122.415443</td>\n",
       "      <td>Folsom St at 15th St</td>\n",
       "      <td>2020-02-01 10:37:51.0000</td>\n",
       "      <td>NaN</td>\n",
       "      <td>NaN</td>\n",
       "      <td>NaN</td>\n",
       "      <td>99.0</td>\n",
       "      <td>37.767037</td>\n",
       "      <td>-122.415443</td>\n",
       "      <td>Folsom St at 15th St</td>\n",
       "      <td>2020-01-31 15:40:31.6160</td>\n",
       "      <td>member</td>\n",
       "      <td>0.000000</td>\n",
       "    </tr>\n",
       "    <tr>\n",
       "      <th>2</th>\n",
       "      <td>12822.0</td>\n",
       "      <td>55407.0</td>\n",
       "      <td>197.0</td>\n",
       "      <td>37.808848</td>\n",
       "      <td>-122.249680</td>\n",
       "      <td>El Embarcadero at Grand Ave</td>\n",
       "      <td>2020-02-01 09:11:44.3170</td>\n",
       "      <td>NaN</td>\n",
       "      <td>NaN</td>\n",
       "      <td>NaN</td>\n",
       "      <td>197.0</td>\n",
       "      <td>37.808848</td>\n",
       "      <td>-122.249680</td>\n",
       "      <td>El Embarcadero at Grand Ave</td>\n",
       "      <td>2020-01-31 17:48:16.6350</td>\n",
       "      <td>casual</td>\n",
       "      <td>0.000000</td>\n",
       "    </tr>\n",
       "    <tr>\n",
       "      <th>3</th>\n",
       "      <td>11705.0</td>\n",
       "      <td>54929.0</td>\n",
       "      <td>197.0</td>\n",
       "      <td>37.808848</td>\n",
       "      <td>-122.249680</td>\n",
       "      <td>El Embarcadero at Grand Ave</td>\n",
       "      <td>2020-02-01 09:08:32.6340</td>\n",
       "      <td>NaN</td>\n",
       "      <td>NaN</td>\n",
       "      <td>NaN</td>\n",
       "      <td>197.0</td>\n",
       "      <td>37.808848</td>\n",
       "      <td>-122.249680</td>\n",
       "      <td>El Embarcadero at Grand Ave</td>\n",
       "      <td>2020-01-31 17:53:03.4130</td>\n",
       "      <td>casual</td>\n",
       "      <td>0.000000</td>\n",
       "    </tr>\n",
       "    <tr>\n",
       "      <th>4</th>\n",
       "      <td>3673.0</td>\n",
       "      <td>55700.0</td>\n",
       "      <td>371.0</td>\n",
       "      <td>37.802746</td>\n",
       "      <td>-122.413579</td>\n",
       "      <td>Lombard St at Columbus Ave</td>\n",
       "      <td>2020-02-01 08:40:53.6460</td>\n",
       "      <td>NaN</td>\n",
       "      <td>NaN</td>\n",
       "      <td>NaN</td>\n",
       "      <td>12.0</td>\n",
       "      <td>37.796389</td>\n",
       "      <td>-122.394586</td>\n",
       "      <td>Pier 1/2 at The Embarcadero</td>\n",
       "      <td>2020-01-31 17:12:33.4600</td>\n",
       "      <td>casual</td>\n",
       "      <td>127.063907</td>\n",
       "    </tr>\n",
       "  </tbody>\n",
       "</table>\n",
       "</div>"
      ],
      "text/plain": [
       "   bike_id  duration_sec  end_station_id  end_station_latitude  \\\n",
       "0  13052.0       83118.0           400.0             37.804272   \n",
       "1  12235.0       68239.0            99.0             37.767037   \n",
       "2  12822.0       55407.0           197.0             37.808848   \n",
       "3  11705.0       54929.0           197.0             37.808848   \n",
       "4   3673.0       55700.0           371.0             37.802746   \n",
       "\n",
       "   end_station_longitude               end_station_name  \\\n",
       "0            -122.433537  Buchanan St at North Point St   \n",
       "1            -122.415443           Folsom St at 15th St   \n",
       "2            -122.249680    El Embarcadero at Grand Ave   \n",
       "3            -122.249680    El Embarcadero at Grand Ave   \n",
       "4            -122.413579     Lombard St at Columbus Ave   \n",
       "\n",
       "                   end_time rental_access_method ride_id rideable_type  \\\n",
       "0  2020-02-01 14:29:06.2630                  NaN     NaN           NaN   \n",
       "1  2020-02-01 10:37:51.0000                  NaN     NaN           NaN   \n",
       "2  2020-02-01 09:11:44.3170                  NaN     NaN           NaN   \n",
       "3  2020-02-01 09:08:32.6340                  NaN     NaN           NaN   \n",
       "4  2020-02-01 08:40:53.6460                  NaN     NaN           NaN   \n",
       "\n",
       "   start_station_id  start_station_latitude  start_station_longitude  \\\n",
       "0             400.0               37.804272              -122.433537   \n",
       "1              99.0               37.767037              -122.415443   \n",
       "2             197.0               37.808848              -122.249680   \n",
       "3             197.0               37.808848              -122.249680   \n",
       "4              12.0               37.796389              -122.394586   \n",
       "\n",
       "              start_station_name                start_time user_type  \\\n",
       "0  Buchanan St at North Point St  2020-01-31 15:23:47.7330    casual   \n",
       "1           Folsom St at 15th St  2020-01-31 15:40:31.6160    member   \n",
       "2    El Embarcadero at Grand Ave  2020-01-31 17:48:16.6350    casual   \n",
       "3    El Embarcadero at Grand Ave  2020-01-31 17:53:03.4130    casual   \n",
       "4    Pier 1/2 at The Embarcadero  2020-01-31 17:12:33.4600    casual   \n",
       "\n",
       "     distance  \n",
       "0    0.000000  \n",
       "1    0.000000  \n",
       "2    0.000000  \n",
       "3    0.000000  \n",
       "4  127.063907  "
      ]
     },
     "execution_count": 217,
     "metadata": {},
     "output_type": "execute_result"
    }
   ],
   "source": [
    "df.head()"
   ]
  },
  {
   "cell_type": "code",
   "execution_count": 104,
   "metadata": {
    "slideshow": {
     "slide_type": "skip"
    }
   },
   "outputs": [
    {
     "data": {
      "text/plain": [
       "1285685"
      ]
     },
     "execution_count": 104,
     "metadata": {},
     "output_type": "execute_result"
    }
   ],
   "source": [
    "df.shape[0]"
   ]
  },
  {
   "cell_type": "code",
   "execution_count": 219,
   "metadata": {
    "slideshow": {
     "slide_type": "skip"
    }
   },
   "outputs": [],
   "source": [
    "#Change the time column into a datetime fomrat\n",
    "df.start_time=pd.to_datetime(df['start_time'])\n",
    "df.end_time=pd.to_datetime(df['end_time'])"
   ]
  },
  {
   "cell_type": "code",
   "execution_count": 228,
   "metadata": {
    "slideshow": {
     "slide_type": "skip"
    }
   },
   "outputs": [],
   "source": [
    "#Create a column to extract the hours from the start time column\n",
    "df['start_hour']=1\n",
    "df['start_hour']=df.start_time.dt.hour.astype(float)# Convert the values into int\n",
    "df['end_time_minutes']=df.end_time.dt.hour.astype(float)*60+df.end_time.dt.minute.astype(float)\n",
    "df['start_hour_minutes']=df.start_time.dt.hour.astype(float)*60+df.start_time.dt.minute.astype(float)\n",
    "df['time_diff']=df.end_time-df.start_time\n",
    "df['day']=1\n",
    "df['day']=df.start_time.dt.strftime('%a')\n",
    "#Create a column to extract the months from the start time column\n",
    "df['start_month']=1\n",
    "df['start_month']=df.start_time.dt.month.astype(int)# Convert the values into int\n",
    "df['time_diff']=pd.to_datetime(df['time_diff'])\n",
    "df['duration_minutes']=df['time_diff'].dt.hour.astype(float)*60+df['time_diff'].dt.minute.astype(float)"
   ]
  },
  {
   "cell_type": "code",
   "execution_count": 226,
   "metadata": {
    "slideshow": {
     "slide_type": "skip"
    }
   },
   "outputs": [
    {
     "data": {
      "text/plain": [
       "pandas._libs.tslibs.timedeltas.Timedelta"
      ]
     },
     "execution_count": 226,
     "metadata": {},
     "output_type": "execute_result"
    }
   ],
   "source": [
    "type(df.time_diff[0])"
   ]
  },
  {
   "cell_type": "code",
   "execution_count": 2,
   "metadata": {},
   "outputs": [],
   "source": [
    "df=pd.read_csv('file.csv')"
   ]
  },
  {
   "cell_type": "code",
   "execution_count": 3,
   "metadata": {
    "slideshow": {
     "slide_type": "slide"
    }
   },
   "outputs": [
    {
     "data": {
      "text/html": [
       "<div>\n",
       "<style scoped>\n",
       "    .dataframe tbody tr th:only-of-type {\n",
       "        vertical-align: middle;\n",
       "    }\n",
       "\n",
       "    .dataframe tbody tr th {\n",
       "        vertical-align: top;\n",
       "    }\n",
       "\n",
       "    .dataframe thead th {\n",
       "        text-align: right;\n",
       "    }\n",
       "</style>\n",
       "<table border=\"1\" class=\"dataframe\">\n",
       "  <thead>\n",
       "    <tr style=\"text-align: right;\">\n",
       "      <th></th>\n",
       "      <th>user_type</th>\n",
       "      <th>start_hour</th>\n",
       "      <th>day</th>\n",
       "      <th>start_month</th>\n",
       "      <th>distance</th>\n",
       "      <th>duration_minutes</th>\n",
       "    </tr>\n",
       "  </thead>\n",
       "  <tbody>\n",
       "    <tr>\n",
       "      <th>0</th>\n",
       "      <td>casual</td>\n",
       "      <td>15.0</td>\n",
       "      <td>Fri</td>\n",
       "      <td>1</td>\n",
       "      <td>0.000000</td>\n",
       "      <td>1385.0</td>\n",
       "    </tr>\n",
       "    <tr>\n",
       "      <th>1</th>\n",
       "      <td>member</td>\n",
       "      <td>15.0</td>\n",
       "      <td>Fri</td>\n",
       "      <td>1</td>\n",
       "      <td>0.000000</td>\n",
       "      <td>1137.0</td>\n",
       "    </tr>\n",
       "    <tr>\n",
       "      <th>2</th>\n",
       "      <td>casual</td>\n",
       "      <td>17.0</td>\n",
       "      <td>Fri</td>\n",
       "      <td>1</td>\n",
       "      <td>0.000000</td>\n",
       "      <td>923.0</td>\n",
       "    </tr>\n",
       "    <tr>\n",
       "      <th>3</th>\n",
       "      <td>casual</td>\n",
       "      <td>17.0</td>\n",
       "      <td>Fri</td>\n",
       "      <td>1</td>\n",
       "      <td>0.000000</td>\n",
       "      <td>915.0</td>\n",
       "    </tr>\n",
       "    <tr>\n",
       "      <th>4</th>\n",
       "      <td>casual</td>\n",
       "      <td>17.0</td>\n",
       "      <td>Fri</td>\n",
       "      <td>1</td>\n",
       "      <td>127.063907</td>\n",
       "      <td>928.0</td>\n",
       "    </tr>\n",
       "  </tbody>\n",
       "</table>\n",
       "</div>"
      ],
      "text/plain": [
       "  user_type  start_hour  day  start_month    distance  duration_minutes\n",
       "0    casual        15.0  Fri            1    0.000000            1385.0\n",
       "1    member        15.0  Fri            1    0.000000            1137.0\n",
       "2    casual        17.0  Fri            1    0.000000             923.0\n",
       "3    casual        17.0  Fri            1    0.000000             915.0\n",
       "4    casual        17.0  Fri            1  127.063907             928.0"
      ]
     },
     "execution_count": 3,
     "metadata": {},
     "output_type": "execute_result"
    }
   ],
   "source": [
    "df.head()"
   ]
  },
  {
   "cell_type": "code",
   "execution_count": 231,
   "metadata": {
    "slideshow": {
     "slide_type": "subslide"
    }
   },
   "outputs": [
    {
     "name": "stdout",
     "output_type": "stream",
     "text": [
      "<class 'pandas.core.frame.DataFrame'>\n",
      "RangeIndex: 1285685 entries, 0 to 1285684\n",
      "Data columns (total 24 columns):\n",
      "bike_id                    905007 non-null float64\n",
      "duration_sec               905007 non-null float64\n",
      "end_station_id             653013 non-null float64\n",
      "end_station_latitude       1285043 non-null float64\n",
      "end_station_longitude      1285043 non-null float64\n",
      "end_station_name           654287 non-null object\n",
      "end_time                   1285685 non-null datetime64[ns]\n",
      "rental_access_method       617858 non-null object\n",
      "ride_id                    380678 non-null object\n",
      "rideable_type              138251 non-null object\n",
      "start_station_id           658674 non-null float64\n",
      "start_station_latitude     1285685 non-null float64\n",
      "start_station_longitude    1285685 non-null float64\n",
      "start_station_name         659907 non-null object\n",
      "start_time                 1285685 non-null datetime64[ns]\n",
      "user_type                  1285685 non-null object\n",
      "distance                   1285043 non-null float64\n",
      "start_hour                 1285685 non-null float64\n",
      "end_time_minutes           1285685 non-null float64\n",
      "start_hour_minutes         1285685 non-null float64\n",
      "day                        1285685 non-null object\n",
      "start_month                1285685 non-null int32\n",
      "duration_minutes           1285685 non-null float64\n",
      "time_diff                  1285685 non-null datetime64[ns]\n",
      "dtypes: datetime64[ns](3), float64(13), int32(1), object(7)\n",
      "memory usage: 230.5+ MB\n"
     ]
    }
   ],
   "source": [
    "df.info()"
   ]
  },
  {
   "cell_type": "code",
   "execution_count": 257,
   "metadata": {
    "slideshow": {
     "slide_type": "slide"
    }
   },
   "outputs": [
    {
     "data": {
      "text/html": [
       "<div>\n",
       "<style scoped>\n",
       "    .dataframe tbody tr th:only-of-type {\n",
       "        vertical-align: middle;\n",
       "    }\n",
       "\n",
       "    .dataframe tbody tr th {\n",
       "        vertical-align: top;\n",
       "    }\n",
       "\n",
       "    .dataframe thead th {\n",
       "        text-align: right;\n",
       "    }\n",
       "</style>\n",
       "<table border=\"1\" class=\"dataframe\">\n",
       "  <thead>\n",
       "    <tr style=\"text-align: right;\">\n",
       "      <th></th>\n",
       "      <th>user_type</th>\n",
       "      <th>start_hour</th>\n",
       "      <th>day</th>\n",
       "      <th>start_month</th>\n",
       "      <th>distance</th>\n",
       "      <th>duration_minutes</th>\n",
       "    </tr>\n",
       "  </thead>\n",
       "  <tbody>\n",
       "    <tr>\n",
       "      <th>0</th>\n",
       "      <td>casual</td>\n",
       "      <td>15.0</td>\n",
       "      <td>Fri</td>\n",
       "      <td>1</td>\n",
       "      <td>0.000000</td>\n",
       "      <td>1385.0</td>\n",
       "    </tr>\n",
       "    <tr>\n",
       "      <th>1</th>\n",
       "      <td>member</td>\n",
       "      <td>15.0</td>\n",
       "      <td>Fri</td>\n",
       "      <td>1</td>\n",
       "      <td>0.000000</td>\n",
       "      <td>1137.0</td>\n",
       "    </tr>\n",
       "    <tr>\n",
       "      <th>2</th>\n",
       "      <td>casual</td>\n",
       "      <td>17.0</td>\n",
       "      <td>Fri</td>\n",
       "      <td>1</td>\n",
       "      <td>0.000000</td>\n",
       "      <td>923.0</td>\n",
       "    </tr>\n",
       "    <tr>\n",
       "      <th>3</th>\n",
       "      <td>casual</td>\n",
       "      <td>17.0</td>\n",
       "      <td>Fri</td>\n",
       "      <td>1</td>\n",
       "      <td>0.000000</td>\n",
       "      <td>915.0</td>\n",
       "    </tr>\n",
       "    <tr>\n",
       "      <th>4</th>\n",
       "      <td>casual</td>\n",
       "      <td>17.0</td>\n",
       "      <td>Fri</td>\n",
       "      <td>1</td>\n",
       "      <td>127.063907</td>\n",
       "      <td>928.0</td>\n",
       "    </tr>\n",
       "  </tbody>\n",
       "</table>\n",
       "</div>"
      ],
      "text/plain": [
       "  user_type  start_hour  day  start_month    distance  duration_minutes\n",
       "0    casual        15.0  Fri            1    0.000000            1385.0\n",
       "1    member        15.0  Fri            1    0.000000            1137.0\n",
       "2    casual        17.0  Fri            1    0.000000             923.0\n",
       "3    casual        17.0  Fri            1    0.000000             915.0\n",
       "4    casual        17.0  Fri            1  127.063907             928.0"
      ]
     },
     "execution_count": 257,
     "metadata": {},
     "output_type": "execute_result"
    }
   ],
   "source": [
    "# Getting the interesting columns into a new dataframe\n",
    "df=df[['user_type','start_hour','day','start_month','distance','duration_minutes']]\n",
    "df.head()"
   ]
  },
  {
   "cell_type": "code",
   "execution_count": 236,
   "metadata": {
    "slideshow": {
     "slide_type": "skip"
    }
   },
   "outputs": [],
   "source": [
    "# Save the full dataframe into a csv file\n",
    "df.to_csv('file.csv',index=False)"
   ]
  },
  {
   "cell_type": "code",
   "execution_count": 258,
   "metadata": {
    "slideshow": {
     "slide_type": "skip"
    }
   },
   "outputs": [
    {
     "data": {
      "application/vnd.jupyter.widget-view+json": {
       "model_id": "4929b1dac7a147d18fd34bee63610ee8",
       "version_major": 2,
       "version_minor": 0
      },
      "text/plain": [
       "HBox(children=(FloatProgress(value=0.0, description='Summarize dataset', max=20.0, style=ProgressStyle(descrip…"
      ]
     },
     "metadata": {},
     "output_type": "display_data"
    },
    {
     "name": "stdout",
     "output_type": "stream",
     "text": [
      "\n"
     ]
    },
    {
     "data": {
      "application/vnd.jupyter.widget-view+json": {
       "model_id": "344cefa0fbc04045bdc1d111e94bbf6f",
       "version_major": 2,
       "version_minor": 0
      },
      "text/plain": [
       "HBox(children=(FloatProgress(value=0.0, description='Generate report structure', max=1.0, style=ProgressStyle(…"
      ]
     },
     "metadata": {},
     "output_type": "display_data"
    },
    {
     "name": "stdout",
     "output_type": "stream",
     "text": [
      "\n"
     ]
    },
    {
     "data": {
      "application/vnd.jupyter.widget-view+json": {
       "model_id": "541783b24e0e444eab7a332973723b59",
       "version_major": 2,
       "version_minor": 0
      },
      "text/plain": [
       "HBox(children=(FloatProgress(value=0.0, description='Render HTML', max=1.0, style=ProgressStyle(description_wi…"
      ]
     },
     "metadata": {},
     "output_type": "display_data"
    },
    {
     "name": "stdout",
     "output_type": "stream",
     "text": [
      "\n"
     ]
    },
    {
     "data": {
      "application/vnd.jupyter.widget-view+json": {
       "model_id": "a99f0444156b4775b329d2bbfb2bfb3c",
       "version_major": 2,
       "version_minor": 0
      },
      "text/plain": [
       "HBox(children=(FloatProgress(value=0.0, description='Export report to file', max=1.0, style=ProgressStyle(desc…"
      ]
     },
     "metadata": {},
     "output_type": "display_data"
    },
    {
     "name": "stdout",
     "output_type": "stream",
     "text": [
      "\n"
     ]
    }
   ],
   "source": [
    "prof=ProfileReport(df)\n",
    "prof.to_file(output_file='output.html')"
   ]
  },
  {
   "cell_type": "markdown",
   "metadata": {
    "slideshow": {
     "slide_type": "slide"
    }
   },
   "source": [
    "# Data visualization"
   ]
  },
  {
   "cell_type": "markdown",
   "metadata": {
    "slideshow": {
     "slide_type": "slide"
    }
   },
   "source": [
    "# Member compared to Casual users\n",
    "<br>\n",
    "This bar chart shows that the proportions of both casual and member users. It shows that the member users represent 54 percent of the whole population, whereas the casual users represent 46 percent."
   ]
  },
  {
   "cell_type": "code",
   "execution_count": 87,
   "metadata": {
    "slideshow": {
     "slide_type": "subslide"
    }
   },
   "outputs": [
    {
     "data": {
      "text/plain": [
       "Text(0.5, 1.0, 'The proportion of user types per population')"
      ]
     },
     "execution_count": 87,
     "metadata": {},
     "output_type": "execute_result"
    },
    {
     "data": {
      "image/png": "[encoded data removed]",
      "text/plain": [
       "<Figure size 432x288 with 1 Axes>"
      ]
     },
     "metadata": {
      "needs_background": "light"
     },
     "output_type": "display_data"
    }
   ],
   "source": [
    "sb.countplot(df['user_type'],color=sb.color_palette()[0])\n",
    "member=df[df['user_type']=='member'].count()[0]/df['user_type'].shape[0]\n",
    "casual=df[df['user_type']=='casual'].count()[0]/df['user_type'].shape[0]\n",
    "pct_string='{:0.2f}%'.format(member)\n",
    "plt.text(1,750000,pct_string,ha='center',va='top')\n",
    "pct_string='{:0.2f}%'.format(casual)\n",
    "plt.text(0,650000,pct_string,ha='center',va='top')\n",
    "plt.title('The proportion of user types per population')"
   ]
  },
  {
   "cell_type": "markdown",
   "metadata": {
    "slideshow": {
     "slide_type": "slide"
    }
   },
   "source": [
    "# Weekdays\n",
    "The graph below shows the proportions of weekdays. It shows the differences in proportions are in range of 3%."
   ]
  },
  {
   "cell_type": "code",
   "execution_count": 89,
   "metadata": {
    "slideshow": {
     "slide_type": "subslide"
    }
   },
   "outputs": [
    {
     "data": {
      "image/png": "[encoded data removed]",
      "text/plain": [
       "<Figure size 432x288 with 1 Axes>"
      ]
     },
     "metadata": {
      "needs_background": "light"
     },
     "output_type": "display_data"
    }
   ],
   "source": [
    "n_observations=df.shape[0]\n",
    "type_counts=df.day.value_counts()\n",
    "max_point=type_counts[0]/n_observations\n",
    "values=np.arange(0,max_point,.02)\n",
    "value_ticks=['{:0.2f}'.format(v) for v in values]\n",
    "value_ticks\n",
    "color=sb.color_palette()[0]\n",
    "order=df.day.value_counts().index\n",
    "plt.xticks(n_observations*values,value_ticks);\n",
    "sb.countplot(data=df,y='day',color=color,order=order);\n",
    "plt.xticks(n_observations*values,value_ticks);\n",
    "plt.xlabel('proportion');\n",
    "for i in range(type_counts.shape[0]):\n",
    "    count=type_counts[i]\n",
    "    pct_string='{:0.2f}%'.format(100*count/n_observations)\n",
    "    plt.text(count+1,i,pct_string,va='center')\n",
    "plt.title('The proportion of trips taken per day');"
   ]
  },
  {
   "cell_type": "markdown",
   "metadata": {
    "slideshow": {
     "slide_type": "slide"
    }
   },
   "source": [
    "# Time of day\n",
    "The graph below show the poroportion if population used the service in different hours of the day. it showed that 5 pm occupied the highest place with almost 10.77%, then come in the second, and third places 6pm and 4:00 pm respectively. which indicates that bikes are more likely to be used after work. Another interesting obesrvation is 8:00 am and 9:00 pm got high prportions as they recorded 7.67% anf 6.2% respectively, which may indicate that these proportions of the customers use bikes to go to work or most likely to."
   ]
  },
  {
   "cell_type": "code",
   "execution_count": 91,
   "metadata": {
    "slideshow": {
     "slide_type": "subslide"
    }
   },
   "outputs": [
    {
     "data": {
      "image/png": "[encoded data removed]",
      "text/plain": [
       "<Figure size 432x288 with 1 Axes>"
      ]
     },
     "metadata": {
      "needs_background": "light"
     },
     "output_type": "display_data"
    }
   ],
   "source": [
    "type_counts=sorted(df.start_hour.value_counts(),reverse=True)\n",
    "max_point=type_counts[0]/n_observations\n",
    "values=np.arange(0,max_point,.02)\n",
    "value_ticks=['{:0.2f}'.format(v) for v in values]\n",
    "value_ticks\n",
    "color=sb.color_palette()[0]\n",
    "order=df.start_hour.value_counts().index\n",
    "sb.countplot(data=df,y='start_hour',color=color,order=order);\n",
    "plt.xticks([])\n",
    "plt.xlabel('proportion');\n",
    "for i in range(len(type_counts)):\n",
    "    count=type_counts[i]\n",
    "    pct_string='{:0.2f}%'.format(100*count/n_observations)\n",
    "    plt.text(count+1,i,pct_string,va='center')\n",
    "plt.title('The time of day when each trip is taken');"
   ]
  },
  {
   "cell_type": "markdown",
   "metadata": {
    "slideshow": {
     "slide_type": "slide"
    }
   },
   "source": [
    "# Month of the year\n",
    "The data being presented represents the first half of 2020. As per the graph, it shows that Feubruary recored the highest proportion as it got 33% of the data, whereas, April came in the last place."
   ]
  },
  {
   "cell_type": "code",
   "execution_count": 93,
   "metadata": {
    "slideshow": {
     "slide_type": "subslide"
    }
   },
   "outputs": [
    {
     "data": {
      "image/png": "[encoded data removed]",
      "text/plain": [
       "<Figure size 432x288 with 1 Axes>"
      ]
     },
     "metadata": {
      "needs_background": "light"
     },
     "output_type": "display_data"
    }
   ],
   "source": [
    "type_counts=sorted(df.start_month.value_counts(),reverse=True)\n",
    "max_point=type_counts[0]/n_observations\n",
    "values=np.arange(0,max_point,.02)\n",
    "value_ticks=['{:0.2f}'.format(v) for v in values]\n",
    "value_ticks\n",
    "color=sb.color_palette()[0]\n",
    "order=df.start_month.value_counts().index\n",
    "sb.countplot(data=df,y='start_month',color=color,order=order);\n",
    "plt.xticks([])\n",
    "plt.xlabel('proportion');\n",
    "for i in range(len(type_counts)):\n",
    "    count=type_counts[i]\n",
    "    pct_string='{:0.2f}%'.format(100*count/n_observations)\n",
    "    plt.text(count+1,i,pct_string,va='center')\n",
    "plt.title('The proportion of Each month when the trip was taken');"
   ]
  },
  {
   "cell_type": "markdown",
   "metadata": {
    "slideshow": {
     "slide_type": "slide"
    }
   },
   "source": [
    "# Duration in minutes:\n",
    "The histogram below plots the duration of the trip in minutes. It shows that most of the trips were for 0 to 20 minutes, which means that the customers preferred using biks for short trips."
   ]
  },
  {
   "cell_type": "code",
   "execution_count": 94,
   "metadata": {
    "slideshow": {
     "slide_type": "subslide"
    }
   },
   "outputs": [
    {
     "data": {
      "image/png": "[encoded data removed]",
      "text/plain": [
       "<Figure size 432x288 with 1 Axes>"
      ]
     },
     "metadata": {
      "needs_background": "light"
     },
     "output_type": "display_data"
    }
   ],
   "source": [
    "bins=np.arange(0,100,10)\n",
    "plt.hist(df['duration_minutes'],bins=bins);\n",
    "plt.xticks(bins,bins);\n",
    "plt.xlabel('Duration in minutes');\n",
    "plt.ylabel('Number of trips')\n",
    "plt.title('The distribution of the duration of the trips in minutes');"
   ]
  },
  {
   "cell_type": "markdown",
   "metadata": {
    "slideshow": {
     "slide_type": "slide"
    }
   },
   "source": [
    "# distance vs. duration_minutes\n",
    "the scatter plot below shows that there is a positive correlation between the distance and the duration of the trip in minutes"
   ]
  },
  {
   "cell_type": "code",
   "execution_count": 96,
   "metadata": {
    "slideshow": {
     "slide_type": "subslide"
    }
   },
   "outputs": [
    {
     "data": {
      "image/png": "[encoded data removed]",
      "text/plain": [
       "<Figure size 432x288 with 1 Axes>"
      ]
     },
     "metadata": {
      "needs_background": "light"
     },
     "output_type": "display_data"
    }
   ],
   "source": [
    "sb.regplot(data=df,x='distance',y='duration_minutes',x_jitter=.4,scatter_kws={'alpha':1/20});\n",
    "plt.title('The relationship between the distance and duration in minutes');"
   ]
  },
  {
   "cell_type": "code",
   "execution_count": 97,
   "metadata": {
    "slideshow": {
     "slide_type": "subslide"
    }
   },
   "outputs": [
    {
     "data": {
      "image/png": "[encoded data removed]",
      "text/plain": [
       "<Figure size 432x288 with 1 Axes>"
      ]
     },
     "metadata": {
      "needs_background": "light"
     },
     "output_type": "display_data"
    }
   ],
   "source": [
    "sb.violinplot(data=df,x='user_type',y='duration_minutes',color=sb.color_palette()[0],inner=None);# different variation\n",
    "plt.xticks(rotation=15);\n",
    "plt.title('The descriptive statistics of every user type compared to the duration in minutes');"
   ]
  },
  {
   "cell_type": "markdown",
   "metadata": {
    "slideshow": {
     "slide_type": "slide"
    }
   },
   "source": [
    "# User type vs. day\n",
    "The graph shows that on average the members have more rides than the casual users except for Saturdays. Which may ignite the need to expand in attracting more casual users to be members."
   ]
  },
  {
   "cell_type": "code",
   "execution_count": 521,
   "metadata": {
    "slideshow": {
     "slide_type": "subslide"
    }
   },
   "outputs": [
    {
     "data": {
      "image/png": "[encoded data removed]",
      "text/plain": [
       "<Figure size 576x432 with 1 Axes>"
      ]
     },
     "metadata": {
      "needs_background": "light"
     },
     "output_type": "display_data"
    }
   ],
   "source": [
    "size = (8,6)\n",
    "ax = sb.countplot(data = df, x='day' ,hue = 'user_type')\n",
    "ax.legend(loc = 4, ncol = 1, framealpha =3)\n",
    "fig.suptitle('Count of users Vs week days categorized by usertype', size = 13);"
   ]
  },
  {
   "cell_type": "markdown",
   "metadata": {
    "slideshow": {
     "slide_type": "slide"
    }
   },
   "source": [
    "# User_type vs. Start_hour"
   ]
  },
  {
   "cell_type": "code",
   "execution_count": 99,
   "metadata": {
    "slideshow": {
     "slide_type": "subslide"
    }
   },
   "outputs": [
    {
     "data": {
      "text/plain": [
       "<matplotlib.legend.Legend at 0x16b9d8ef048>"
      ]
     },
     "execution_count": 99,
     "metadata": {},
     "output_type": "execute_result"
    },
    {
     "data": {
      "image/png": "[encoded data removed]",
      "text/plain": [
       "<Figure size 432x288 with 1 Axes>"
      ]
     },
     "metadata": {
      "needs_background": "light"
     },
     "output_type": "display_data"
    }
   ],
   "source": [
    "size = (8,6)\n",
    "ax = sb.countplot(data = df,x='start_hour' ,hue = 'user_type',order=df.start_hour.value_counts().index)\n",
    "ax.legend(loc = 4, ncol = 1, framealpha =3)\n",
    "plt.xticks(rotation=90);\n",
    "plt.title('Count of users Vs week days categorized by usertype');\n",
    "plt.legend(loc=1)"
   ]
  },
  {
   "cell_type": "markdown",
   "metadata": {
    "slideshow": {
     "slide_type": "slide"
    }
   },
   "source": [
    "# Multivariate exploration"
   ]
  },
  {
   "cell_type": "markdown",
   "metadata": {
    "slideshow": {
     "slide_type": "slide"
    }
   },
   "source": [
    "# The relationship between the duration in minutes, the distance and user type\n",
    "<br>\n",
    "The graph below shows the correlation between the distance and duration in minutes when adding another category which is the user type to the data. The graph shows positive correlation when adding the third dimension which is the user type"
   ]
  },
  {
   "cell_type": "code",
   "execution_count": 42,
   "metadata": {
    "slideshow": {
     "slide_type": "subslide"
    }
   },
   "outputs": [
    {
     "data": {
      "image/png": "[encoded data removed]",
      "text/plain": [
       "<Figure size 432x288 with 1 Axes>"
      ]
     },
     "metadata": {
      "needs_background": "light"
     },
     "output_type": "display_data"
    }
   ],
   "source": [
    "ttype_marker=[['member','o'],\n",
    "             ['casual','^']]\n",
    "for ttype,marker in ttype_marker:\n",
    "    sub=df.loc[df['user_type']==ttype]\n",
    "    sb.regplot(data=df,x='duration_minutes',y='distance',x_jitter=.04,fit_reg=True,marker=marker)\n",
    "plt.legend(['Member','Casual'],)\n",
    "plt.title('The duration every trip took compared to distance per user type');\n",
    "#plt.yscale('log');\n",
    "tick=[20,60,140,280,560,1000]\n",
    "#plt.xscale('log');\n",
    "\n",
    "plt.ylabel('Distance');\n",
    "plt.xlabel('Duration in mintes');\n",
    "plt.ylim(0,1000);\n",
    "plt.xlim(0,1000);"
   ]
  },
  {
   "cell_type": "markdown",
   "metadata": {
    "slideshow": {
     "slide_type": "slide"
    }
   },
   "source": [
    "# The distibution of duration in minutes for every day in every month per user type"
   ]
  },
  {
   "cell_type": "code",
   "execution_count": 86,
   "metadata": {
    "slideshow": {
     "slide_type": "subslide"
    }
   },
   "outputs": [
    {
     "data": {
      "text/plain": [
       "Text(0.5, 0.98, 'The distribution of duration of the trip for every day per each month and each user type')"
      ]
     },
     "execution_count": 86,
     "metadata": {},
     "output_type": "execute_result"
    },
    {
     "data": {
      "image/png": "[encoded data removed]",
      "text/plain": [
       "<Figure size 1512x1296 with 42 Axes>"
      ]
     },
     "metadata": {
      "needs_background": "light"
     },
     "output_type": "display_data"
    }
   ],
   "source": [
    "g=sb.FacetGrid(data=df,col='day',hue='user_type',row='start_month')\n",
    "bins=np.arange(0,100,10)\n",
    "g.map(plt.hist,'duration_minutes',bins=bins,alpha=.5)\n",
    "plt.legend();\n",
    "plt.subplots_adjust(top=0.9)\n",
    "g.fig.suptitle('The distribution of duration of the trip for every day per each month and each user type')"
   ]
  },
  {
   "cell_type": "code",
   "execution_count": null,
   "metadata": {},
   "outputs": [],
   "source": []
  }
 ],
 "metadata": {
  "celltoolbar": "Slideshow",
  "kernelspec": {
   "display_name": "Python 3",
   "language": "python",
   "name": "python3"
  },
  "language_info": {
   "codemirror_mode": {
    "name": "ipython",
    "version": 3
   },
   "file_extension": ".py",
   "mimetype": "text/x-python",
   "name": "python",
   "nbconvert_exporter": "python",
   "pygments_lexer": "ipython3",
   "version": "3.7.4"
  }
 },
 "nbformat": 4,
 "nbformat_minor": 4
}
